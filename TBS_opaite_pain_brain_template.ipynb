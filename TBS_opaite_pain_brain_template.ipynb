{
 "cells": [
  {
   "cell_type": "code",
   "execution_count": 1,
   "metadata": {
    "collapsed": true
   },
   "outputs": [],
   "source": [
    "import cortex\n",
    "import nibabel\n",
    "import nipype\n",
    "import numpy as np\n",
    "from matplotlib import colors\n",
    "\n"
   ]
  },
  {
   "cell_type": "code",
   "execution_count": 2,
   "metadata": {
    "collapsed": true
   },
   "outputs": [],
   "source": [
    "currsub = 'sub-8032ctbs'\n",
    "datadir = '/mnt/data0/tbs_opiate/data/'\n",
    "anatdata = datadir+currsub+'/ses-preTMS/derivatives/'+currsub+'_ses-preTMS_T1w.anat/T1_biascorr_brain.nii.gz'\n",
    "funcdata = datadir+currsub+'/ses-preTMS/derivatives/denoised_pain/fs_spm.feat/example_func.nii.gz'\n",
    "hiktdata = datadir+currsub+'/ses-preTMS/derivatives/denoised_pain/hikts_anat_aligned.nii.gz'\n",
    "\n",
    "pain_map = datadir+currsub+'/ses-preTMS/derivatives/denoised_pain/pain_medn_nat.feat/stats/zstat1.nii.gz'\n",
    "hikts_comps = datadir+currsub+'/ses-preTMS/derivatives/denoised_pain/pain_mefcz_nat.nii.gz'\n"
   ]
  },
  {
   "cell_type": "code",
   "execution_count": 5,
   "metadata": {},
   "outputs": [
    {
     "name": "stdout",
     "output_type": "stream",
     "text": [
      "created by dowdlelt on Wed Oct 25 12:23:58 2017\n",
      "\n",
      "created by dowdlelt on Wed Oct 25 13:07:59 2017\n",
      "\n",
      "created by dowdlelt on Wed Oct 25 12:23:58 2017\n",
      "\n",
      "created by dowdlelt on Wed Oct 25 13:08:09 2017\n",
      "\n",
      "created by dowdlelt on Wed Oct 25 12:23:58 2017\n",
      "\n",
      "created by dowdlelt on Wed Oct 25 12:23:58 2017\n",
      "\n",
      "created by dowdlelt on Wed Oct 25 13:07:59 2017\n",
      "\n",
      "created by dowdlelt on Wed Oct 25 13:08:09 2017\n",
      "\n",
      "created by dowdlelt on Wed Oct 25 12:24:11 2017\n",
      "\n",
      "created by dowdlelt on Wed Oct 25 12:24:12 2017\n",
      "\n"
     ]
    }
   ],
   "source": [
    "cortex.freesurfer.import_subj(currsub)"
   ]
  },
  {
   "cell_type": "code",
   "execution_count": 6,
   "metadata": {},
   "outputs": [
    {
     "name": "stdout",
     "output_type": "stream",
     "text": [
      "created by dowdlelt on Wed Oct 25 12:23:58 2017\n",
      "\n",
      "saving to /home/dowdlelt/anaconda2/share/pycortex/db/sub-8032ctbs/surfaces/flat_lh.gii\n",
      "created by dowdlelt on Wed Oct 25 12:23:58 2017\n",
      "\n",
      "saving to /home/dowdlelt/anaconda2/share/pycortex/db/sub-8032ctbs/surfaces/flat_rh.gii\n"
     ]
    }
   ],
   "source": [
    "cortex.freesurfer.import_flat(currsub, 'full')"
   ]
  },
  {
   "cell_type": "code",
   "execution_count": 7,
   "metadata": {},
   "outputs": [
    {
     "name": "stdout",
     "output_type": "stream",
     "text": [
      "Generating brainmask anatomical...\n",
      "Brain masking anatomical...\n",
      "Generating whitematter anatomical...\n",
      "Segmenting the brain...\n",
      "FLIRT pre-alignment\n",
      "Running BBR\n",
      "Success\n"
     ]
    }
   ],
   "source": [
    "cortex.align.automatic(currsub, 'fullhead',anatdata)"
   ]
  },
  {
   "cell_type": "code",
   "execution_count": 8,
   "metadata": {},
   "outputs": [
    {
     "name": "stdout",
     "output_type": "stream",
     "text": [
      "FLIRT pre-alignment\n",
      "Running BBR\n",
      "Success\n"
     ]
    }
   ],
   "source": [
    "cortex.align.automatic(currsub,'funcspace',funcdata)"
   ]
  },
  {
   "cell_type": "code",
   "execution_count": 3,
   "metadata": {},
   "outputs": [],
   "source": [
    "hikt_pain = nibabel.load(hiktdata)\n",
    "comp_zscores = nibabel.load(hikts_comps)\n",
    "pain_act = nibabel.load(pain_map)"
   ]
  },
  {
   "cell_type": "code",
   "execution_count": null,
   "metadata": {},
   "outputs": [],
   "source": []
  },
  {
   "cell_type": "code",
   "execution_count": 4,
   "metadata": {},
   "outputs": [
    {
     "name": "stdout",
     "output_type": "stream",
     "text": [
      "('act_vol shape is', (70, 96, 69))\n",
      "('act_thresh shape is', (70, 96, 69))\n",
      "('hikt_vol shape is', (70, 96, 69))\n"
     ]
    }
   ],
   "source": [
    "act_vol = cortex.Volume(pain_act.get_data().T.astype(float), currsub,'funcspace', priority=1)\n",
    "print('act_vol shape is' ,act_vol.shape)\n",
    "\n",
    "act_thresh = (pain_act.get_data().T.astype(float))\n",
    "act_thresh[np.absolute(act_thresh)<3.1] = np.nan\n",
    "act_thresh_vol = cortex.Volume(act_thresh, currsub, 'funcspace', priority=2)\n",
    "print('act_thresh shape is' ,act_thresh.shape)\n",
    "\n",
    "\n",
    "hikt_vol = cortex.Volume(hikt_pain.get_data().T.astype(float), currsub,'funcspace', priority=3)\n",
    "print('hikt_vol shape is' ,hikt_vol.shape)\n",
    "\n",
    "hikt_thresh = hikt_pain.get_data().T.astype(float)\n",
    "pain_swapped = act_thresh.reshape(70, 96, 69)\n",
    "\n",
    "hikt_thresh[:,np.isnan(pain_swapped)] = np.nan\n",
    "\n",
    "\n",
    "hikt_thresh_vol = cortex.Volume(hikt_thresh, currsub, 'funcspace', priority=5)\n",
    "kappa_comps_vol = cortex.Volume(comp_zscores.get_data().T.astype(float), currsub,'funcspace', priority=4)\n",
    "\n",
    "volumes = {\n",
    "    'Pain Map': act_vol,\n",
    "    'Pain Map (Z>3.1)': act_thresh_vol,\n",
    "    'Timeseries': hikt_vol,\n",
    "    'High Kappa Components': kappa_comps_vol,\n",
    "    'timeseries, masked': hikt_thresh_vol\n",
    "}"
   ]
  },
  {
   "cell_type": "code",
   "execution_count": 5,
   "metadata": {},
   "outputs": [
    {
     "name": "stdout",
     "output_type": "stream",
     "text": [
      "(445, 70, 96, 69)\n",
      "(69, 96, 70, 445)\n",
      "(69, 96, 70)\n",
      "(70, 96, 69)\n",
      "(70, 96, 69)\n",
      "(70, 96, 69)\n"
     ]
    }
   ],
   "source": [
    "print(hikt_thresh.shape)\n",
    "print(hikt_pain.shape)\n",
    "print(pain_act.shape)\n",
    "print(act_thresh.shape)\n",
    "print(act_vol.shape)\n",
    "print(hikt_vol.shape)"
   ]
  },
  {
   "cell_type": "code",
   "execution_count": 6,
   "metadata": {},
   "outputs": [
    {
     "name": "stdout",
     "output_type": "stream",
     "text": [
      "Started server on port 51790\n"
     ]
    },
    {
     "data": {
      "text/plain": [
       "<JS: window.viewer>"
      ]
     },
     "execution_count": 6,
     "metadata": {},
     "output_type": "execute_result"
    }
   ],
   "source": [
    "cortex.webshow(data=volumes)"
   ]
  },
  {
   "cell_type": "code",
   "execution_count": 14,
   "metadata": {},
   "outputs": [
    {
     "name": "stdout",
     "output_type": "stream",
     "text": [
      "Started server on port 57668\n"
     ]
    },
    {
     "data": {
      "text/plain": [
       "<JS: window.viewer>"
      ]
     },
     "execution_count": 14,
     "metadata": {},
     "output_type": "execute_result"
    },
    {
     "name": "stdout",
     "output_type": "stream",
     "text": [
      "Stopping server\n"
     ]
    }
   ],
   "source": [
    "cortex.webshow((comp_zscores.get_data().T.astype(float),currsub,'funcspace'))"
   ]
  },
  {
   "cell_type": "code",
   "execution_count": 11,
   "metadata": {},
   "outputs": [
    {
     "name": "stdout",
     "output_type": "stream",
     "text": [
      "Generating new ctm file...\n",
      "wm\n",
      "wm\n",
      "inflated\n",
      "inflated\n",
      "Generating a flatmap cache\n",
      "Started server on port 43347\n"
     ]
    },
    {
     "data": {
      "text/plain": [
       "<JS: window.viewer>"
      ]
     },
     "execution_count": 11,
     "metadata": {},
     "output_type": "execute_result"
    }
   ],
   "source": [
    "cortex.webshow((hikt_pain.get_data().T.astype(float),currsub,'funcspace'))"
   ]
  },
  {
   "cell_type": "code",
   "execution_count": null,
   "metadata": {
    "collapsed": true
   },
   "outputs": [],
   "source": [
    "cortex.webshow((pain_act.get_data().T.astype(float),currsub,'funcspace'))"
   ]
  },
  {
   "cell_type": "code",
   "execution_count": 3,
   "metadata": {},
   "outputs": [
    {
     "name": "stdout",
     "output_type": "stream",
     "text": [
      "created by greve on Thu Apr 11 16:23:42 2013\n",
      "\n",
      "saving to /home/dowdlelt/anaconda2/share/pycortex/db/fsaverage_copied/surfaces/flat_lh.gii\n",
      "created by greve on Thu Apr 11 16:23:51 2013\n",
      "\n",
      "saving to /home/dowdlelt/anaconda2/share/pycortex/db/fsaverage_copied/surfaces/flat_rh.gii\n"
     ]
    }
   ],
   "source": [
    "cortex.freesurfer.import_flat('fsaverage_copied', 'full')"
   ]
  },
  {
   "cell_type": "code",
   "execution_count": 8,
   "metadata": {},
   "outputs": [
    {
     "name": "stdout",
     "output_type": "stream",
     "text": [
      "Generating brainmask anatomical...\n",
      "Brain masking anatomical...\n",
      "Generating whitematter anatomical...\n",
      "Segmenting the brain...\n",
      "FLIRT pre-alignment\n",
      "Running BBR\n",
      "Success\n"
     ]
    }
   ],
   "source": [
    "group_pain = nibabel.load('/mnt/data0/tbs_opiate/models/fsl/controls/pre/flame2_21_3pt1.gfeat/cope1.feat/stats/zstat1.nii.gz')\n",
    "cortex.align.automatic('fsaverage_copied', 'fsl_space','/mnt/data0/tbs_opiate/models/fsl/controls/pre/flame2_21_3pt1.gfeat/bg_image.nii.gz')"
   ]
  },
  {
   "cell_type": "code",
   "execution_count": 9,
   "metadata": {},
   "outputs": [
    {
     "name": "stdout",
     "output_type": "stream",
     "text": [
      "Generating new ctm file...\n",
      "wm\n",
      "wm\n",
      "inflated\n",
      "inflated\n",
      "Generating a flatmap cache\n",
      "Started server on port 9656\n"
     ]
    },
    {
     "data": {
      "text/plain": [
       "<JS: window.viewer>"
      ]
     },
     "execution_count": 9,
     "metadata": {},
     "output_type": "execute_result"
    },
    {
     "name": "stdout",
     "output_type": "stream",
     "text": [
      "Stopping server\n"
     ]
    }
   ],
   "source": [
    "cortex.webshow((group_pain.get_data().T.astype(float),'fsaverage_copied','fsl_space'))"
   ]
  },
  {
   "cell_type": "raw",
   "metadata": {},
   "source": []
  }
 ],
 "metadata": {
  "kernelspec": {
   "display_name": "Python 2",
   "language": "python",
   "name": "python2"
  },
  "language_info": {
   "codemirror_mode": {
    "name": "ipython",
    "version": 2
   },
   "file_extension": ".py",
   "mimetype": "text/x-python",
   "name": "python",
   "nbconvert_exporter": "python",
   "pygments_lexer": "ipython2",
   "version": "2.7.13"
  }
 },
 "nbformat": 4,
 "nbformat_minor": 2
}
